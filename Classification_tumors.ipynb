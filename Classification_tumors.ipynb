{
 "cells": [
  {
   "cell_type": "markdown",
   "metadata": {
    "colab_type": "text",
    "id": "sTEPHARhQ66I"
   },
   "source": [
    "# CLASSIFICATION OF CONCERIOUS TUMORS WITH DNN"
   ]
  },
  {
   "cell_type": "code",
   "execution_count": 13,
   "metadata": {
    "colab": {
     "base_uri": "https://localhost:8080/",
     "height": 34
    },
    "colab_type": "code",
    "id": "8OGmjLK_3KLo",
    "outputId": "de714f47-af31-4526-9029-788413e078ca"
   },
   "outputs": [
    {
     "name": "stdout",
     "output_type": "stream",
     "text": [
      "Drive already mounted at /content/drive; to attempt to forcibly remount, call drive.mount(\"/content/drive\", force_remount=True).\n"
     ]
    }
   ],
   "source": [
    "from google.colab import drive\n",
    "drive.mount('/content/drive')"
   ]
  },
  {
   "cell_type": "markdown",
   "metadata": {
    "colab_type": "text",
    "id": "nuWdzx5ic9Qx"
   },
   "source": [
    "# Data preporcessing"
   ]
  },
  {
   "cell_type": "markdown",
   "metadata": {
    "colab_type": "text",
    "id": "AQER8yHXdA55"
   },
   "source": [
    "##Importing Libraries"
   ]
  },
  {
   "cell_type": "code",
   "execution_count": 14,
   "metadata": {
    "colab": {},
    "colab_type": "code",
    "id": "PoWCxOrl4-QL"
   },
   "outputs": [],
   "source": [
    "import os\n",
    "import numpy as np\n",
    "import pandas as pd\n",
    "import matplotlib.pyplot as plt\n",
    "import tensorflow as tf\n",
    "from sklearn.model_selection import train_test_split\n",
    "from sklearn.preprocessing import LabelEncoder\n",
    "import seaborn as sns\n",
    "from sklearn.preprocessing import OrdinalEncoder\n",
    "from tensorflow.keras.models import Sequential\n",
    "from tensorflow.keras.layers import Dense\n",
    "from tensorflow.keras.utils import to_categorical"
   ]
  },
  {
   "cell_type": "markdown",
   "metadata": {
    "colab_type": "text",
    "id": "Jyb9LZz9asJ8"
   },
   "source": [
    "##Importing dataset"
   ]
  },
  {
   "cell_type": "code",
   "execution_count": 15,
   "metadata": {
    "colab": {
     "base_uri": "https://localhost:8080/",
     "height": 394
    },
    "colab_type": "code",
    "id": "6E3pcd1l5VH3",
    "outputId": "cac513e3-3822-4163-d300-6c7c3d5daa5b"
   },
   "outputs": [
    {
     "data": {
      "text/html": [
       "<div>\n",
       "<style scoped>\n",
       "    .dataframe tbody tr th:only-of-type {\n",
       "        vertical-align: middle;\n",
       "    }\n",
       "\n",
       "    .dataframe tbody tr th {\n",
       "        vertical-align: top;\n",
       "    }\n",
       "\n",
       "    .dataframe thead th {\n",
       "        text-align: right;\n",
       "    }\n",
       "</style>\n",
       "<table border=\"1\" class=\"dataframe\">\n",
       "  <thead>\n",
       "    <tr style=\"text-align: right;\">\n",
       "      <th></th>\n",
       "      <th>Hugo_Symbol</th>\n",
       "      <th>Gene_Id</th>\n",
       "      <th>Center</th>\n",
       "      <th>Chromosome</th>\n",
       "      <th>Start_Position</th>\n",
       "      <th>End_Position</th>\n",
       "      <th>Reference_Allele</th>\n",
       "      <th>t_depth</th>\n",
       "      <th>t_ref_count</th>\n",
       "      <th>t_alt_count</th>\n",
       "      <th>n_depth</th>\n",
       "      <th>ALLELE_NUM</th>\n",
       "      <th>TRANSCRIPT_STRAND</th>\n",
       "      <th>Variant_Type</th>\n",
       "      <th>Reference_Allele.1</th>\n",
       "      <th>Tumor_Seq_Allele1</th>\n",
       "      <th>Tumor_Seq_Allele2</th>\n",
       "      <th>Tumor_Sample_Barcode</th>\n",
       "      <th>Matched_Norm_Sample_Barcode</th>\n",
       "      <th>Sequencer</th>\n",
       "      <th>Tumor_Sample_UUID</th>\n",
       "      <th>Matched_Norm_Sample_UUID</th>\n",
       "      <th>HGVSc</th>\n",
       "      <th>HGVSp</th>\n",
       "      <th>HGVSp_Short</th>\n",
       "      <th>Transcript_ID</th>\n",
       "      <th>Exon_Number</th>\n",
       "      <th>t_depth.1</th>\n",
       "      <th>t_ref_count.1</th>\n",
       "      <th>t_alt_count.1</th>\n",
       "      <th>n_depth.1</th>\n",
       "      <th>all_effects</th>\n",
       "      <th>Allele</th>\n",
       "      <th>Gene</th>\n",
       "      <th>Feature</th>\n",
       "      <th>Feature_type</th>\n",
       "      <th>One_Consequence</th>\n",
       "      <th>Consequence</th>\n",
       "      <th>cDNA_position</th>\n",
       "      <th>CDS_position</th>\n",
       "      <th>Protein_position</th>\n",
       "      <th>Amino_acids</th>\n",
       "      <th>Codons</th>\n",
       "      <th>ALLELE_NUM.1</th>\n",
       "      <th>TRANSCRIPT_STRAND.1</th>\n",
       "      <th>SYMBOL</th>\n",
       "      <th>SYMBOL_SOURCE</th>\n",
       "      <th>HGNC_ID</th>\n",
       "      <th>BIOTYPE</th>\n",
       "      <th>CANONICAL</th>\n",
       "      <th>IMPACT</th>\n",
       "      <th>PICK</th>\n",
       "      <th>VARIANT_CLASS</th>\n",
       "      <th>TSL</th>\n",
       "      <th>Variant_Classification</th>\n",
       "    </tr>\n",
       "  </thead>\n",
       "  <tbody>\n",
       "    <tr>\n",
       "      <th>0</th>\n",
       "      <td>EXOSC10</td>\n",
       "      <td>5394</td>\n",
       "      <td>BI</td>\n",
       "      <td>chr1</td>\n",
       "      <td>11080633</td>\n",
       "      <td>11080633</td>\n",
       "      <td>A</td>\n",
       "      <td>42</td>\n",
       "      <td>34</td>\n",
       "      <td>8</td>\n",
       "      <td>38</td>\n",
       "      <td>1</td>\n",
       "      <td>-1.0</td>\n",
       "      <td>SNP</td>\n",
       "      <td>A</td>\n",
       "      <td>A</td>\n",
       "      <td>G</td>\n",
       "      <td>TCGA-SW-A7EB-01A-11D-A34U-08</td>\n",
       "      <td>TCGA-SW-A7EB-10A-01D-A34X-08</td>\n",
       "      <td>Illumina HiSeq 2000</td>\n",
       "      <td>abe30688-9765-4e24-8b7d-3c04543b2441</td>\n",
       "      <td>f721f0b9-2b21-44d1-8b54-5385fbd52958</td>\n",
       "      <td>c.1587-84T&gt;C</td>\n",
       "      <td>p.Val395Leu</td>\n",
       "      <td>NaN</td>\n",
       "      <td>ENST00000376936</td>\n",
       "      <td>NaN</td>\n",
       "      <td>42</td>\n",
       "      <td>34</td>\n",
       "      <td>8</td>\n",
       "      <td>38</td>\n",
       "      <td>EXOSC10,intron_variant,,ENST00000376936,NM_001...</td>\n",
       "      <td>G</td>\n",
       "      <td>ENSG00000171824</td>\n",
       "      <td>ENST00000376936</td>\n",
       "      <td>Transcript</td>\n",
       "      <td>intron_variant</td>\n",
       "      <td>intron_variant</td>\n",
       "      <td>-/2808</td>\n",
       "      <td>-/2658</td>\n",
       "      <td>-/885</td>\n",
       "      <td>NaN</td>\n",
       "      <td>NaN</td>\n",
       "      <td>1</td>\n",
       "      <td>-1.0</td>\n",
       "      <td>EXOSC10</td>\n",
       "      <td>HGNC</td>\n",
       "      <td>HGNC:9138</td>\n",
       "      <td>protein_coding</td>\n",
       "      <td>YES</td>\n",
       "      <td>MODIFIER</td>\n",
       "      <td>1.0</td>\n",
       "      <td>SNV</td>\n",
       "      <td>1.0</td>\n",
       "      <td>Intron</td>\n",
       "    </tr>\n",
       "    <tr>\n",
       "      <th>1</th>\n",
       "      <td>LRRC8C</td>\n",
       "      <td>84230</td>\n",
       "      <td>BI</td>\n",
       "      <td>chr1</td>\n",
       "      <td>89713753</td>\n",
       "      <td>89713753</td>\n",
       "      <td>G</td>\n",
       "      <td>66</td>\n",
       "      <td>56</td>\n",
       "      <td>10</td>\n",
       "      <td>90</td>\n",
       "      <td>1</td>\n",
       "      <td>1.0</td>\n",
       "      <td>SNP</td>\n",
       "      <td>G</td>\n",
       "      <td>G</td>\n",
       "      <td>C</td>\n",
       "      <td>TCGA-SW-A7EB-01A-11D-A34U-08</td>\n",
       "      <td>TCGA-SW-A7EB-10A-01D-A34X-08</td>\n",
       "      <td>Illumina HiSeq 2000</td>\n",
       "      <td>abe30688-9765-4e24-8b7d-3c04543b2441</td>\n",
       "      <td>f721f0b9-2b21-44d1-8b54-5385fbd52958</td>\n",
       "      <td>c.1183G&gt;C</td>\n",
       "      <td>p.Val395Leu</td>\n",
       "      <td>p.V395L</td>\n",
       "      <td>ENST00000370454</td>\n",
       "      <td>2020-03-03 00:00:00</td>\n",
       "      <td>66</td>\n",
       "      <td>56</td>\n",
       "      <td>10</td>\n",
       "      <td>90</td>\n",
       "      <td>LRRC8C,missense_variant,p.V395L,ENST0000037045...</td>\n",
       "      <td>C</td>\n",
       "      <td>ENSG00000171488</td>\n",
       "      <td>ENST00000370454</td>\n",
       "      <td>Transcript</td>\n",
       "      <td>missense_variant</td>\n",
       "      <td>missense_variant</td>\n",
       "      <td>1438/7218</td>\n",
       "      <td>1183/2412</td>\n",
       "      <td>395/803</td>\n",
       "      <td>V/L</td>\n",
       "      <td>Gtc/Ctc</td>\n",
       "      <td>1</td>\n",
       "      <td>1.0</td>\n",
       "      <td>LRRC8C</td>\n",
       "      <td>HGNC</td>\n",
       "      <td>HGNC:25075</td>\n",
       "      <td>protein_coding</td>\n",
       "      <td>YES</td>\n",
       "      <td>MODERATE</td>\n",
       "      <td>1.0</td>\n",
       "      <td>SNV</td>\n",
       "      <td>1.0</td>\n",
       "      <td>Missense_Mutation</td>\n",
       "    </tr>\n",
       "    <tr>\n",
       "      <th>2</th>\n",
       "      <td>HMCN1</td>\n",
       "      <td>83872</td>\n",
       "      <td>BI</td>\n",
       "      <td>chr1</td>\n",
       "      <td>186114925</td>\n",
       "      <td>186114925</td>\n",
       "      <td>C</td>\n",
       "      <td>155</td>\n",
       "      <td>121</td>\n",
       "      <td>34</td>\n",
       "      <td>188</td>\n",
       "      <td>1</td>\n",
       "      <td>1.0</td>\n",
       "      <td>SNP</td>\n",
       "      <td>C</td>\n",
       "      <td>C</td>\n",
       "      <td>T</td>\n",
       "      <td>TCGA-SW-A7EB-01A-11D-A34U-08</td>\n",
       "      <td>TCGA-SW-A7EB-10A-01D-A34X-08</td>\n",
       "      <td>Illumina HiSeq 2000</td>\n",
       "      <td>abe30688-9765-4e24-8b7d-3c04543b2441</td>\n",
       "      <td>f721f0b9-2b21-44d1-8b54-5385fbd52958</td>\n",
       "      <td>c.11383C&gt;T</td>\n",
       "      <td>p.Arg3795Ter</td>\n",
       "      <td>p.R3795*</td>\n",
       "      <td>ENST00000271588</td>\n",
       "      <td>74/107</td>\n",
       "      <td>155</td>\n",
       "      <td>121</td>\n",
       "      <td>34</td>\n",
       "      <td>188</td>\n",
       "      <td>HMCN1,stop_gained,p.R3795*,ENST00000271588,NM_...</td>\n",
       "      <td>T</td>\n",
       "      <td>ENSG00000143341</td>\n",
       "      <td>ENST00000271588</td>\n",
       "      <td>Transcript</td>\n",
       "      <td>stop_gained</td>\n",
       "      <td>stop_gained</td>\n",
       "      <td>11612/18208</td>\n",
       "      <td>11383/16908</td>\n",
       "      <td>3795/5635</td>\n",
       "      <td>R/*</td>\n",
       "      <td>Cga/Tga</td>\n",
       "      <td>1</td>\n",
       "      <td>1.0</td>\n",
       "      <td>HMCN1</td>\n",
       "      <td>HGNC</td>\n",
       "      <td>HGNC:19194</td>\n",
       "      <td>protein_coding</td>\n",
       "      <td>YES</td>\n",
       "      <td>HIGH</td>\n",
       "      <td>1.0</td>\n",
       "      <td>SNV</td>\n",
       "      <td>1.0</td>\n",
       "      <td>Nonsense_Mutation</td>\n",
       "    </tr>\n",
       "    <tr>\n",
       "      <th>3</th>\n",
       "      <td>PLA2G4A</td>\n",
       "      <td>5321</td>\n",
       "      <td>BI</td>\n",
       "      <td>chr1</td>\n",
       "      <td>186893146</td>\n",
       "      <td>186893146</td>\n",
       "      <td>A</td>\n",
       "      <td>152</td>\n",
       "      <td>127</td>\n",
       "      <td>25</td>\n",
       "      <td>182</td>\n",
       "      <td>1</td>\n",
       "      <td>1.0</td>\n",
       "      <td>SNP</td>\n",
       "      <td>A</td>\n",
       "      <td>A</td>\n",
       "      <td>C</td>\n",
       "      <td>TCGA-SW-A7EB-01A-11D-A34U-08</td>\n",
       "      <td>TCGA-SW-A7EB-10A-01D-A34X-08</td>\n",
       "      <td>Illumina HiSeq 2000</td>\n",
       "      <td>abe30688-9765-4e24-8b7d-3c04543b2441</td>\n",
       "      <td>f721f0b9-2b21-44d1-8b54-5385fbd52958</td>\n",
       "      <td>c.251A&gt;C</td>\n",
       "      <td>p.Glu84Ala</td>\n",
       "      <td>p.E84A</td>\n",
       "      <td>ENST00000367466</td>\n",
       "      <td>2018-04-01 00:00:00</td>\n",
       "      <td>152</td>\n",
       "      <td>127</td>\n",
       "      <td>25</td>\n",
       "      <td>182</td>\n",
       "      <td>PLA2G4A,missense_variant,p.E84A,ENST0000036746...</td>\n",
       "      <td>C</td>\n",
       "      <td>ENSG00000116711</td>\n",
       "      <td>ENST00000367466</td>\n",
       "      <td>Transcript</td>\n",
       "      <td>missense_variant</td>\n",
       "      <td>missense_variant</td>\n",
       "      <td>403/2875</td>\n",
       "      <td>251/2250</td>\n",
       "      <td>84/749</td>\n",
       "      <td>E/A</td>\n",
       "      <td>gAa/gCa</td>\n",
       "      <td>1</td>\n",
       "      <td>1.0</td>\n",
       "      <td>PLA2G4A</td>\n",
       "      <td>HGNC</td>\n",
       "      <td>HGNC:9035</td>\n",
       "      <td>protein_coding</td>\n",
       "      <td>YES</td>\n",
       "      <td>MODERATE</td>\n",
       "      <td>1.0</td>\n",
       "      <td>SNV</td>\n",
       "      <td>1.0</td>\n",
       "      <td>Missense_Mutation</td>\n",
       "    </tr>\n",
       "    <tr>\n",
       "      <th>4</th>\n",
       "      <td>OTOF</td>\n",
       "      <td>9381</td>\n",
       "      <td>BI</td>\n",
       "      <td>chr2</td>\n",
       "      <td>26476904</td>\n",
       "      <td>26476904</td>\n",
       "      <td>G</td>\n",
       "      <td>50</td>\n",
       "      <td>42</td>\n",
       "      <td>8</td>\n",
       "      <td>60</td>\n",
       "      <td>1</td>\n",
       "      <td>-1.0</td>\n",
       "      <td>SNP</td>\n",
       "      <td>G</td>\n",
       "      <td>G</td>\n",
       "      <td>A</td>\n",
       "      <td>TCGA-SW-A7EB-01A-11D-A34U-08</td>\n",
       "      <td>TCGA-SW-A7EB-10A-01D-A34X-08</td>\n",
       "      <td>Illumina HiSeq 2000</td>\n",
       "      <td>abe30688-9765-4e24-8b7d-3c04543b2441</td>\n",
       "      <td>f721f0b9-2b21-44d1-8b54-5385fbd52958</td>\n",
       "      <td>c.2663C&gt;T</td>\n",
       "      <td>p.Thr888Met</td>\n",
       "      <td>p.T888M</td>\n",
       "      <td>ENST00000272371</td>\n",
       "      <td>22/47</td>\n",
       "      <td>50</td>\n",
       "      <td>42</td>\n",
       "      <td>8</td>\n",
       "      <td>60</td>\n",
       "      <td>OTOF,missense_variant,p.T888M,ENST00000272371,...</td>\n",
       "      <td>A</td>\n",
       "      <td>ENSG00000115155</td>\n",
       "      <td>ENST00000272371</td>\n",
       "      <td>Transcript</td>\n",
       "      <td>missense_variant</td>\n",
       "      <td>missense_variant</td>\n",
       "      <td>2790/7156</td>\n",
       "      <td>2663/5994</td>\n",
       "      <td>888/1997</td>\n",
       "      <td>T/M</td>\n",
       "      <td>aCg/aTg</td>\n",
       "      <td>1</td>\n",
       "      <td>-1.0</td>\n",
       "      <td>OTOF</td>\n",
       "      <td>HGNC</td>\n",
       "      <td>HGNC:8515</td>\n",
       "      <td>protein_coding</td>\n",
       "      <td>YES</td>\n",
       "      <td>MODERATE</td>\n",
       "      <td>1.0</td>\n",
       "      <td>SNV</td>\n",
       "      <td>1.0</td>\n",
       "      <td>Missense_Mutation</td>\n",
       "    </tr>\n",
       "  </tbody>\n",
       "</table>\n",
       "</div>"
      ],
      "text/plain": [
       "  Hugo_Symbol  Gene_Id Center  ... VARIANT_CLASS  TSL  Variant_Classification\n",
       "0     EXOSC10     5394     BI  ...           SNV  1.0                  Intron\n",
       "1      LRRC8C    84230     BI  ...           SNV  1.0       Missense_Mutation\n",
       "2       HMCN1    83872     BI  ...           SNV  1.0       Nonsense_Mutation\n",
       "3     PLA2G4A     5321     BI  ...           SNV  1.0       Missense_Mutation\n",
       "4        OTOF     9381     BI  ...           SNV  1.0       Missense_Mutation\n",
       "\n",
       "[5 rows x 55 columns]"
      ]
     },
     "execution_count": 15,
     "metadata": {
      "tags": []
     },
     "output_type": "execute_result"
    }
   ],
   "source": [
    "df=pd.read_excel('/content/drive/My Drive/X.xlsx',  error_bad_lines=False)\n",
    "df.head(5)"
   ]
  },
  {
   "cell_type": "markdown",
   "metadata": {
    "colab_type": "text",
    "id": "3nKrKEwapTy7"
   },
   "source": [
    "##Size of data"
   ]
  },
  {
   "cell_type": "code",
   "execution_count": 16,
   "metadata": {
    "colab": {
     "base_uri": "https://localhost:8080/",
     "height": 34
    },
    "colab_type": "code",
    "id": "9lEwRcZKDTyO",
    "outputId": "daa7e37b-82db-4685-b6a6-59909e5ee4a6"
   },
   "outputs": [
    {
     "data": {
      "text/plain": [
       "(118824, 55)"
      ]
     },
     "execution_count": 16,
     "metadata": {
      "tags": []
     },
     "output_type": "execute_result"
    }
   ],
   "source": [
    "df.shape "
   ]
  },
  {
   "cell_type": "markdown",
   "metadata": {
    "colab_type": "text",
    "id": "pptwQl7aeUXl"
   },
   "source": [
    "##Columns display"
   ]
  },
  {
   "cell_type": "code",
   "execution_count": 17,
   "metadata": {
    "colab": {
     "base_uri": "https://localhost:8080/",
     "height": 272
    },
    "colab_type": "code",
    "id": "noSqn-LQDc7s",
    "outputId": "cd773ea4-0fc3-4028-b956-13af4dbe7d1a"
   },
   "outputs": [
    {
     "name": "stdout",
     "output_type": "stream",
     "text": [
      "Index(['Hugo_Symbol', 'Gene_Id', 'Center', 'Chromosome', 'Start_Position',\n",
      "       'End_Position', 'Reference_Allele', 't_depth', 't_ref_count',\n",
      "       't_alt_count', 'n_depth', 'ALLELE_NUM', 'TRANSCRIPT_STRAND',\n",
      "       'Variant_Type', 'Reference_Allele.1', 'Tumor_Seq_Allele1',\n",
      "       'Tumor_Seq_Allele2', 'Tumor_Sample_Barcode',\n",
      "       'Matched_Norm_Sample_Barcode', 'Sequencer', 'Tumor_Sample_UUID',\n",
      "       'Matched_Norm_Sample_UUID', 'HGVSc', 'HGVSp', 'HGVSp_Short',\n",
      "       'Transcript_ID', 'Exon_Number', 't_depth.1', 't_ref_count.1',\n",
      "       't_alt_count.1', 'n_depth.1', 'all_effects', 'Allele', 'Gene',\n",
      "       'Feature', 'Feature_type', 'One_Consequence', 'Consequence',\n",
      "       'cDNA_position', 'CDS_position', 'Protein_position', 'Amino_acids',\n",
      "       'Codons', 'ALLELE_NUM.1', 'TRANSCRIPT_STRAND.1', 'SYMBOL',\n",
      "       'SYMBOL_SOURCE', 'HGNC_ID', 'BIOTYPE', 'CANONICAL', 'IMPACT', 'PICK',\n",
      "       'VARIANT_CLASS', 'TSL', 'Variant_Classification'],\n",
      "      dtype='object')\n"
     ]
    }
   ],
   "source": [
    "print(df.columns)"
   ]
  },
  {
   "cell_type": "markdown",
   "metadata": {
    "colab_type": "text",
    "id": "iCimOF3hexLy"
   },
   "source": [
    "##Size of columns"
   ]
  },
  {
   "cell_type": "code",
   "execution_count": 18,
   "metadata": {
    "colab": {
     "base_uri": "https://localhost:8080/",
     "height": 34
    },
    "colab_type": "code",
    "id": "wq_eUFwJDl9T",
    "outputId": "3c9a4d3f-45da-468e-ef3c-d2b92d15b380"
   },
   "outputs": [
    {
     "data": {
      "text/plain": [
       "55"
      ]
     },
     "execution_count": 18,
     "metadata": {
      "tags": []
     },
     "output_type": "execute_result"
    }
   ],
   "source": [
    "len(df.columns)"
   ]
  },
  {
   "cell_type": "markdown",
   "metadata": {
    "colab_type": "text",
    "id": "ifB6HdoTfGHY"
   },
   "source": [
    "##Types columns"
   ]
  },
  {
   "cell_type": "code",
   "execution_count": 19,
   "metadata": {
    "colab": {
     "base_uri": "https://localhost:8080/",
     "height": 969
    },
    "colab_type": "code",
    "id": "4v-55ehQ69Ku",
    "outputId": "b5e3fc45-c770-4928-b909-23faa45f8fcc"
   },
   "outputs": [
    {
     "data": {
      "text/plain": [
       "Hugo_Symbol                     object\n",
       "Gene_Id                          int64\n",
       "Center                          object\n",
       "Chromosome                      object\n",
       "Start_Position                   int64\n",
       "End_Position                     int64\n",
       "Reference_Allele                object\n",
       "t_depth                          int64\n",
       "t_ref_count                      int64\n",
       "t_alt_count                      int64\n",
       "n_depth                          int64\n",
       "ALLELE_NUM                       int64\n",
       "TRANSCRIPT_STRAND              float64\n",
       "Variant_Type                    object\n",
       "Reference_Allele.1              object\n",
       "Tumor_Seq_Allele1               object\n",
       "Tumor_Seq_Allele2               object\n",
       "Tumor_Sample_Barcode            object\n",
       "Matched_Norm_Sample_Barcode     object\n",
       "Sequencer                       object\n",
       "Tumor_Sample_UUID               object\n",
       "Matched_Norm_Sample_UUID        object\n",
       "HGVSc                           object\n",
       "HGVSp                           object\n",
       "HGVSp_Short                     object\n",
       "Transcript_ID                   object\n",
       "Exon_Number                     object\n",
       "t_depth.1                        int64\n",
       "t_ref_count.1                    int64\n",
       "t_alt_count.1                    int64\n",
       "n_depth.1                        int64\n",
       "all_effects                     object\n",
       "Allele                          object\n",
       "Gene                            object\n",
       "Feature                         object\n",
       "Feature_type                    object\n",
       "One_Consequence                 object\n",
       "Consequence                     object\n",
       "cDNA_position                   object\n",
       "CDS_position                    object\n",
       "Protein_position                object\n",
       "Amino_acids                     object\n",
       "Codons                          object\n",
       "ALLELE_NUM.1                     int64\n",
       "TRANSCRIPT_STRAND.1            float64\n",
       "SYMBOL                          object\n",
       "SYMBOL_SOURCE                   object\n",
       "HGNC_ID                         object\n",
       "BIOTYPE                         object\n",
       "CANONICAL                       object\n",
       "IMPACT                          object\n",
       "PICK                           float64\n",
       "VARIANT_CLASS                   object\n",
       "TSL                            float64\n",
       "Variant_Classification          object\n",
       "dtype: object"
      ]
     },
     "execution_count": 19,
     "metadata": {
      "tags": []
     },
     "output_type": "execute_result"
    }
   ],
   "source": [
    "df.dtypes"
   ]
  },
  {
   "cell_type": "markdown",
   "metadata": {
    "colab_type": "text",
    "id": "wUsdw7YjfSh1"
   },
   "source": [
    "###We can count the number of values ​​in each category"
   ]
  },
  {
   "cell_type": "code",
   "execution_count": 20,
   "metadata": {
    "colab": {
     "base_uri": "https://localhost:8080/",
     "height": 336
    },
    "colab_type": "code",
    "id": "i1_nuAjmh80b",
    "outputId": "c17abd35-62c0-4661-88f1-e4395f7f732b"
   },
   "outputs": [
    {
     "data": {
      "text/plain": [
       "<matplotlib.axes._subplots.AxesSubplot at 0x7fd9e40cc630>"
      ]
     },
     "execution_count": 20,
     "metadata": {
      "tags": []
     },
     "output_type": "execute_result"
    },
    {
     "data": {
      "image/png": "[encoded data removed]",
      "text/plain": [
       "<Figure size 360x360 with 1 Axes>"
      ]
     },
     "metadata": {
      "tags": []
     },
     "output_type": "display_data"
    }
   ],
   "source": [
    "df['Center'].value_counts(dropna=False).plot.pie(y='Center', legend = True, autopct='%2.0f%%', figsize = (5,5), title = 'Center Distribution')"
   ]
  },
  {
   "cell_type": "code",
   "execution_count": 21,
   "metadata": {
    "colab": {
     "base_uri": "https://localhost:8080/",
     "height": 432
    },
    "colab_type": "code",
    "id": "NY9v5P9BiNY7",
    "outputId": "f347d768-c5bc-4f7f-9410-e0b1fb47b72e"
   },
   "outputs": [
    {
     "data": {
      "text/plain": [
       "<matplotlib.axes._subplots.AxesSubplot at 0x7fd9ed76e860>"
      ]
     },
     "execution_count": 21,
     "metadata": {
      "tags": []
     },
     "output_type": "execute_result"
    },
    {
     "data": {
      "image/png": "[encoded data removed]",
      "text/plain": [
       "<Figure size 360x360 with 1 Axes>"
      ]
     },
     "metadata": {
      "tags": []
     },
     "output_type": "display_data"
    }
   ],
   "source": [
    "df['Chromosome'].value_counts(dropna=False).plot.pie(y='Chromosome', legend = True, autopct='%2.0f%%', figsize = (5,5), title = 'Chromosome Distribution')"
   ]
  },
  {
   "cell_type": "code",
   "execution_count": 22,
   "metadata": {
    "colab": {
     "base_uri": "https://localhost:8080/",
     "height": 336
    },
    "colab_type": "code",
    "id": "hIdUzmMjiVlF",
    "outputId": "c7d8db51-69fe-4a0d-8d62-06305b46a64e"
   },
   "outputs": [
    {
     "data": {
      "text/plain": [
       "<matplotlib.axes._subplots.AxesSubplot at 0x7fd9e9c6ef98>"
      ]
     },
     "execution_count": 22,
     "metadata": {
      "tags": []
     },
     "output_type": "execute_result"
    },
    {
     "data": {
      "image/png": "[encoded data removed]",
      "text/plain": [
       "<Figure size 360x360 with 1 Axes>"
      ]
     },
     "metadata": {
      "tags": []
     },
     "output_type": "display_data"
    }
   ],
   "source": [
    "df['Variant_Classification'].value_counts(dropna=False).plot.pie(y='Variant_Classification', legend = True, autopct='%2.0f%%', figsize = (5,5), title = 'Variant_Classification Distribution')"
   ]
  },
  {
   "cell_type": "code",
   "execution_count": 23,
   "metadata": {
    "colab": {},
    "colab_type": "code",
    "id": "FOpw33czlH6G"
   },
   "outputs": [],
   "source": [
    "import seaborn as sns\n",
    "sns.set_style('whitegrid')"
   ]
  },
  {
   "cell_type": "code",
   "execution_count": 24,
   "metadata": {
    "colab": {
     "base_uri": "https://localhost:8080/",
     "height": 283
    },
    "colab_type": "code",
    "id": "BrIYUJhOlYQ7",
    "outputId": "7a67afd2-6de7-42de-fc05-b540def4257f"
   },
   "outputs": [
    {
     "data": {
      "text/plain": [
       "<matplotlib.axes._subplots.AxesSubplot at 0x7fd9e6136780>"
      ]
     },
     "execution_count": 24,
     "metadata": {
      "tags": []
     },
     "output_type": "execute_result"
    },
    {
     "data": {
      "image/png": "[encoded data removed]",
      "text/plain": [
       "<Figure size 432x288 with 1 Axes>"
      ]
     },
     "metadata": {
      "tags": []
     },
     "output_type": "display_data"
    }
   ],
   "source": [
    "Missense_Mutation= len(df['Variant_Classification'][df['Variant_Classification']=='Missense_Mutation'])\n",
    "Silent= len(df['Variant_Classification'][df['Variant_Classification']=='Silent'])\n",
    "Nonsense_Mutation=len(df['Variant_Classification'][df['Variant_Classification']=='Nonsense_Mutation'])\n",
    "\n",
    "\n",
    "sns.barplot(x = ['Missense_Mutation', 'Silent', 'Nonsense_Mutation'],\n",
    "            y = [Missense_Mutation,Silent,Nonsense_Mutation ],\n",
    "            )"
   ]
  },
  {
   "cell_type": "code",
   "execution_count": 25,
   "metadata": {
    "colab": {
     "base_uri": "https://localhost:8080/",
     "height": 616
    },
    "colab_type": "code",
    "id": "9bGWoMiKlgHq",
    "outputId": "8d9299e0-8376-4380-9ab2-e5d27e24ed64"
   },
   "outputs": [
    {
     "data": {
      "image/png": "[encoded data removed]",
      "text/plain": [
       "<Figure size 864x576 with 1 Axes>"
      ]
     },
     "metadata": {
      "tags": []
     },
     "output_type": "display_data"
    }
   ],
   "source": [
    "plt.figure(figsize=(12,8))\n",
    "sns.countplot(x=\"Variant_Classification\", data=df)\n",
    "plt.ylabel('Frequency', fontsize=12)\n",
    "plt.xlabel('Class Count', fontsize=12)\n",
    "plt.xticks(rotation='vertical')\n",
    "plt.title(\"Frequency of Classes\", fontsize=15)\n",
    "plt.show()"
   ]
  },
  {
   "cell_type": "markdown",
   "metadata": {
    "colab_type": "text",
    "id": "XAnhPNo6fmXy"
   },
   "source": [
    "##Describtion target"
   ]
  },
  {
   "cell_type": "code",
   "execution_count": 26,
   "metadata": {
    "colab": {
     "base_uri": "https://localhost:8080/",
     "height": 102
    },
    "colab_type": "code",
    "id": "g5oWzmM9l01X",
    "outputId": "13fd00eb-e3c4-4bdf-bf05-ba2303e3fb1b"
   },
   "outputs": [
    {
     "name": "stdout",
     "output_type": "stream",
     "text": [
      "count                118824\n",
      "unique                   14\n",
      "top       Missense_Mutation\n",
      "freq                  71706\n",
      "Name: Variant_Classification, dtype: object\n"
     ]
    }
   ],
   "source": [
    "detail = df['Variant_Classification'].describe()\n",
    "print(detail)"
   ]
  },
  {
   "cell_type": "code",
   "execution_count": 27,
   "metadata": {
    "colab": {},
    "colab_type": "code",
    "id": "7lm_xwrqDzVP"
   },
   "outputs": [],
   "source": [
    "obj_df = df.select_dtypes(include=['object']).copy()"
   ]
  },
  {
   "cell_type": "markdown",
   "metadata": {
    "colab_type": "text",
    "id": "BIRfBrudXKSj"
   },
   "source": [
    "#Data Preparation"
   ]
  },
  {
   "cell_type": "code",
   "execution_count": 28,
   "metadata": {
    "colab": {
     "base_uri": "https://localhost:8080/",
     "height": 779
    },
    "colab_type": "code",
    "id": "YXhS-dcb8lkm",
    "outputId": "60201ded-eb35-4a61-b286-029b2adb171d"
   },
   "outputs": [
    {
     "data": {
      "text/html": [
       "<div>\n",
       "<style scoped>\n",
       "    .dataframe tbody tr th:only-of-type {\n",
       "        vertical-align: middle;\n",
       "    }\n",
       "\n",
       "    .dataframe tbody tr th {\n",
       "        vertical-align: top;\n",
       "    }\n",
       "\n",
       "    .dataframe thead th {\n",
       "        text-align: right;\n",
       "    }\n",
       "</style>\n",
       "<table border=\"1\" class=\"dataframe\">\n",
       "  <thead>\n",
       "    <tr style=\"text-align: right;\">\n",
       "      <th></th>\n",
       "      <th>Hugo_Symbol</th>\n",
       "      <th>Center</th>\n",
       "      <th>Chromosome</th>\n",
       "      <th>Reference_Allele</th>\n",
       "      <th>Variant_Type</th>\n",
       "      <th>Reference_Allele.1</th>\n",
       "      <th>Tumor_Seq_Allele1</th>\n",
       "      <th>Tumor_Seq_Allele2</th>\n",
       "      <th>Tumor_Sample_Barcode</th>\n",
       "      <th>Matched_Norm_Sample_Barcode</th>\n",
       "      <th>Sequencer</th>\n",
       "      <th>Tumor_Sample_UUID</th>\n",
       "      <th>Matched_Norm_Sample_UUID</th>\n",
       "      <th>HGVSc</th>\n",
       "      <th>HGVSp</th>\n",
       "      <th>HGVSp_Short</th>\n",
       "      <th>Transcript_ID</th>\n",
       "      <th>Exon_Number</th>\n",
       "      <th>all_effects</th>\n",
       "      <th>Allele</th>\n",
       "      <th>Gene</th>\n",
       "      <th>Feature</th>\n",
       "      <th>Feature_type</th>\n",
       "      <th>One_Consequence</th>\n",
       "      <th>Consequence</th>\n",
       "      <th>cDNA_position</th>\n",
       "      <th>CDS_position</th>\n",
       "      <th>Protein_position</th>\n",
       "      <th>Amino_acids</th>\n",
       "      <th>Codons</th>\n",
       "      <th>SYMBOL</th>\n",
       "      <th>SYMBOL_SOURCE</th>\n",
       "      <th>HGNC_ID</th>\n",
       "      <th>BIOTYPE</th>\n",
       "      <th>CANONICAL</th>\n",
       "      <th>IMPACT</th>\n",
       "      <th>VARIANT_CLASS</th>\n",
       "      <th>Variant_Classification</th>\n",
       "    </tr>\n",
       "  </thead>\n",
       "  <tbody>\n",
       "    <tr>\n",
       "      <th>0</th>\n",
       "      <td>EXOSC10</td>\n",
       "      <td>BI</td>\n",
       "      <td>chr1</td>\n",
       "      <td>A</td>\n",
       "      <td>SNP</td>\n",
       "      <td>A</td>\n",
       "      <td>A</td>\n",
       "      <td>G</td>\n",
       "      <td>TCGA-SW-A7EB-01A-11D-A34U-08</td>\n",
       "      <td>TCGA-SW-A7EB-10A-01D-A34X-08</td>\n",
       "      <td>Illumina HiSeq 2000</td>\n",
       "      <td>abe30688-9765-4e24-8b7d-3c04543b2441</td>\n",
       "      <td>f721f0b9-2b21-44d1-8b54-5385fbd52958</td>\n",
       "      <td>c.1587-84T&gt;C</td>\n",
       "      <td>p.Val395Leu</td>\n",
       "      <td>NaN</td>\n",
       "      <td>ENST00000376936</td>\n",
       "      <td>NaN</td>\n",
       "      <td>EXOSC10,intron_variant,,ENST00000376936,NM_001...</td>\n",
       "      <td>G</td>\n",
       "      <td>ENSG00000171824</td>\n",
       "      <td>ENST00000376936</td>\n",
       "      <td>Transcript</td>\n",
       "      <td>intron_variant</td>\n",
       "      <td>intron_variant</td>\n",
       "      <td>-/2808</td>\n",
       "      <td>-/2658</td>\n",
       "      <td>-/885</td>\n",
       "      <td>NaN</td>\n",
       "      <td>NaN</td>\n",
       "      <td>EXOSC10</td>\n",
       "      <td>HGNC</td>\n",
       "      <td>HGNC:9138</td>\n",
       "      <td>protein_coding</td>\n",
       "      <td>YES</td>\n",
       "      <td>MODIFIER</td>\n",
       "      <td>SNV</td>\n",
       "      <td>Intron</td>\n",
       "    </tr>\n",
       "    <tr>\n",
       "      <th>6</th>\n",
       "      <td>DLX2</td>\n",
       "      <td>BI</td>\n",
       "      <td>chr2</td>\n",
       "      <td>C</td>\n",
       "      <td>SNP</td>\n",
       "      <td>C</td>\n",
       "      <td>C</td>\n",
       "      <td>G</td>\n",
       "      <td>TCGA-SW-A7EB-01A-11D-A34U-08</td>\n",
       "      <td>TCGA-SW-A7EB-10A-01D-A34X-08</td>\n",
       "      <td>Illumina HiSeq 2000</td>\n",
       "      <td>abe30688-9765-4e24-8b7d-3c04543b2441</td>\n",
       "      <td>f721f0b9-2b21-44d1-8b54-5385fbd52958</td>\n",
       "      <td>c.*33G&gt;C</td>\n",
       "      <td>p.Pro130Ser</td>\n",
       "      <td>NaN</td>\n",
       "      <td>ENST00000234198</td>\n",
       "      <td>2020-03-03 00:00:00</td>\n",
       "      <td>DLX2,3_prime_UTR_variant,,ENST00000234198,NM_0...</td>\n",
       "      <td>G</td>\n",
       "      <td>ENSG00000115844</td>\n",
       "      <td>ENST00000234198</td>\n",
       "      <td>Transcript</td>\n",
       "      <td>3_prime_UTR_variant</td>\n",
       "      <td>3_prime_UTR_variant</td>\n",
       "      <td>1382/2453</td>\n",
       "      <td>-/987</td>\n",
       "      <td>-/328</td>\n",
       "      <td>NaN</td>\n",
       "      <td>NaN</td>\n",
       "      <td>DLX2</td>\n",
       "      <td>HGNC</td>\n",
       "      <td>HGNC:2915</td>\n",
       "      <td>protein_coding</td>\n",
       "      <td>YES</td>\n",
       "      <td>MODIFIER</td>\n",
       "      <td>SNV</td>\n",
       "      <td>3'UTR</td>\n",
       "    </tr>\n",
       "    <tr>\n",
       "      <th>9</th>\n",
       "      <td>GCSAM</td>\n",
       "      <td>BI</td>\n",
       "      <td>chr3</td>\n",
       "      <td>T</td>\n",
       "      <td>SNP</td>\n",
       "      <td>T</td>\n",
       "      <td>T</td>\n",
       "      <td>C</td>\n",
       "      <td>TCGA-SW-A7EB-01A-11D-A34U-08</td>\n",
       "      <td>TCGA-SW-A7EB-10A-01D-A34X-08</td>\n",
       "      <td>Illumina HiSeq 2000</td>\n",
       "      <td>abe30688-9765-4e24-8b7d-3c04543b2441</td>\n",
       "      <td>f721f0b9-2b21-44d1-8b54-5385fbd52958</td>\n",
       "      <td>c.190A&gt;G</td>\n",
       "      <td>p.Asn64Asp</td>\n",
       "      <td>p.N64D</td>\n",
       "      <td>ENST00000308910</td>\n",
       "      <td>2020-06-04 00:00:00</td>\n",
       "      <td>GCSAM,missense_variant,p.N64D,ENST00000308910,...</td>\n",
       "      <td>C</td>\n",
       "      <td>ENSG00000174500</td>\n",
       "      <td>ENST00000308910</td>\n",
       "      <td>Transcript</td>\n",
       "      <td>missense_variant</td>\n",
       "      <td>missense_variant;splice_region_variant</td>\n",
       "      <td>375/3336</td>\n",
       "      <td>190/537</td>\n",
       "      <td>64/178</td>\n",
       "      <td>N/D</td>\n",
       "      <td>Aat/Gat</td>\n",
       "      <td>GCSAM</td>\n",
       "      <td>HGNC</td>\n",
       "      <td>HGNC:20253</td>\n",
       "      <td>protein_coding</td>\n",
       "      <td>NaN</td>\n",
       "      <td>MODERATE</td>\n",
       "      <td>SNV</td>\n",
       "      <td>Missense_Mutation</td>\n",
       "    </tr>\n",
       "    <tr>\n",
       "      <th>12</th>\n",
       "      <td>RGS12</td>\n",
       "      <td>BI</td>\n",
       "      <td>chr4</td>\n",
       "      <td>C</td>\n",
       "      <td>SNP</td>\n",
       "      <td>C</td>\n",
       "      <td>C</td>\n",
       "      <td>G</td>\n",
       "      <td>TCGA-SW-A7EB-01A-11D-A34U-08</td>\n",
       "      <td>TCGA-SW-A7EB-10A-01D-A34X-08</td>\n",
       "      <td>Illumina HiSeq 2000</td>\n",
       "      <td>abe30688-9765-4e24-8b7d-3c04543b2441</td>\n",
       "      <td>f721f0b9-2b21-44d1-8b54-5385fbd52958</td>\n",
       "      <td>c.4145C&gt;G</td>\n",
       "      <td>p.Pro1382Arg</td>\n",
       "      <td>p.P1382R</td>\n",
       "      <td>ENST00000336727</td>\n",
       "      <td>17/17</td>\n",
       "      <td>RGS12,missense_variant,p.P1382R,ENST0000034473...</td>\n",
       "      <td>G</td>\n",
       "      <td>ENSG00000159788</td>\n",
       "      <td>ENST00000336727</td>\n",
       "      <td>Transcript</td>\n",
       "      <td>missense_variant</td>\n",
       "      <td>missense_variant</td>\n",
       "      <td>4248/4674</td>\n",
       "      <td>4145/4344</td>\n",
       "      <td>1382/1447</td>\n",
       "      <td>P/R</td>\n",
       "      <td>cCa/cGa</td>\n",
       "      <td>RGS12</td>\n",
       "      <td>HGNC</td>\n",
       "      <td>HGNC:9994</td>\n",
       "      <td>protein_coding</td>\n",
       "      <td>NaN</td>\n",
       "      <td>MODERATE</td>\n",
       "      <td>SNV</td>\n",
       "      <td>Missense_Mutation</td>\n",
       "    </tr>\n",
       "    <tr>\n",
       "      <th>15</th>\n",
       "      <td>TBRG4</td>\n",
       "      <td>BI</td>\n",
       "      <td>chr7</td>\n",
       "      <td>A</td>\n",
       "      <td>SNP</td>\n",
       "      <td>A</td>\n",
       "      <td>A</td>\n",
       "      <td>C</td>\n",
       "      <td>TCGA-SW-A7EB-01A-11D-A34U-08</td>\n",
       "      <td>TCGA-SW-A7EB-10A-01D-A34X-08</td>\n",
       "      <td>Illumina HiSeq 2000</td>\n",
       "      <td>abe30688-9765-4e24-8b7d-3c04543b2441</td>\n",
       "      <td>f721f0b9-2b21-44d1-8b54-5385fbd52958</td>\n",
       "      <td>c.412-77T&gt;G</td>\n",
       "      <td>p.Asp36His</td>\n",
       "      <td>NaN</td>\n",
       "      <td>ENST00000258770</td>\n",
       "      <td>NaN</td>\n",
       "      <td>TBRG4,intron_variant,,ENST00000258770,NM_00474...</td>\n",
       "      <td>C</td>\n",
       "      <td>ENSG00000136270</td>\n",
       "      <td>ENST00000258770</td>\n",
       "      <td>Transcript</td>\n",
       "      <td>intron_variant</td>\n",
       "      <td>intron_variant</td>\n",
       "      <td>-/2243</td>\n",
       "      <td>-/1896</td>\n",
       "      <td>-/631</td>\n",
       "      <td>NaN</td>\n",
       "      <td>NaN</td>\n",
       "      <td>TBRG4</td>\n",
       "      <td>HGNC</td>\n",
       "      <td>HGNC:17443</td>\n",
       "      <td>protein_coding</td>\n",
       "      <td>YES</td>\n",
       "      <td>MODIFIER</td>\n",
       "      <td>SNV</td>\n",
       "      <td>Intron</td>\n",
       "    </tr>\n",
       "    <tr>\n",
       "      <th>...</th>\n",
       "      <td>...</td>\n",
       "      <td>...</td>\n",
       "      <td>...</td>\n",
       "      <td>...</td>\n",
       "      <td>...</td>\n",
       "      <td>...</td>\n",
       "      <td>...</td>\n",
       "      <td>...</td>\n",
       "      <td>...</td>\n",
       "      <td>...</td>\n",
       "      <td>...</td>\n",
       "      <td>...</td>\n",
       "      <td>...</td>\n",
       "      <td>...</td>\n",
       "      <td>...</td>\n",
       "      <td>...</td>\n",
       "      <td>...</td>\n",
       "      <td>...</td>\n",
       "      <td>...</td>\n",
       "      <td>...</td>\n",
       "      <td>...</td>\n",
       "      <td>...</td>\n",
       "      <td>...</td>\n",
       "      <td>...</td>\n",
       "      <td>...</td>\n",
       "      <td>...</td>\n",
       "      <td>...</td>\n",
       "      <td>...</td>\n",
       "      <td>...</td>\n",
       "      <td>...</td>\n",
       "      <td>...</td>\n",
       "      <td>...</td>\n",
       "      <td>...</td>\n",
       "      <td>...</td>\n",
       "      <td>...</td>\n",
       "      <td>...</td>\n",
       "      <td>...</td>\n",
       "      <td>...</td>\n",
       "    </tr>\n",
       "    <tr>\n",
       "      <th>118801</th>\n",
       "      <td>POLN</td>\n",
       "      <td>BI</td>\n",
       "      <td>chr4</td>\n",
       "      <td>C</td>\n",
       "      <td>SNP</td>\n",
       "      <td>C</td>\n",
       "      <td>C</td>\n",
       "      <td>A</td>\n",
       "      <td>TCGA-IN-AB1V-01A-21D-A410-08</td>\n",
       "      <td>TCGA-IN-AB1V-10A-01D-A413-08</td>\n",
       "      <td>Illumina HiSeq 2000</td>\n",
       "      <td>e9d53789-cc98-4016-92e3-e752dc6cd891</td>\n",
       "      <td>de7daf62-f9a3-46c3-9ef1-4ffa1578268c</td>\n",
       "      <td>c.1386G&gt;T</td>\n",
       "      <td>p.Lys462Asn</td>\n",
       "      <td>p.K462N</td>\n",
       "      <td>ENST00000382865</td>\n",
       "      <td>2024-10-01 00:00:00</td>\n",
       "      <td>POLN,missense_variant,p.K462N,ENST00000511885,...</td>\n",
       "      <td>A</td>\n",
       "      <td>ENSG00000130997</td>\n",
       "      <td>ENST00000382865</td>\n",
       "      <td>Transcript</td>\n",
       "      <td>missense_variant</td>\n",
       "      <td>missense_variant</td>\n",
       "      <td>1386/2899</td>\n",
       "      <td>1386/2703</td>\n",
       "      <td>462/900</td>\n",
       "      <td>K/N</td>\n",
       "      <td>aaG/aaT</td>\n",
       "      <td>POLN</td>\n",
       "      <td>HGNC</td>\n",
       "      <td>HGNC:18870</td>\n",
       "      <td>protein_coding</td>\n",
       "      <td>NaN</td>\n",
       "      <td>MODERATE</td>\n",
       "      <td>SNV</td>\n",
       "      <td>Missense_Mutation</td>\n",
       "    </tr>\n",
       "    <tr>\n",
       "      <th>118804</th>\n",
       "      <td>OCIAD1</td>\n",
       "      <td>BI</td>\n",
       "      <td>chr4</td>\n",
       "      <td>T</td>\n",
       "      <td>SNP</td>\n",
       "      <td>T</td>\n",
       "      <td>T</td>\n",
       "      <td>C</td>\n",
       "      <td>TCGA-IN-AB1V-01A-21D-A410-08</td>\n",
       "      <td>TCGA-IN-AB1V-10A-01D-A413-08</td>\n",
       "      <td>Illumina HiSeq 2000</td>\n",
       "      <td>e9d53789-cc98-4016-92e3-e752dc6cd891</td>\n",
       "      <td>de7daf62-f9a3-46c3-9ef1-4ffa1578268c</td>\n",
       "      <td>c.264T&gt;C</td>\n",
       "      <td>p.=</td>\n",
       "      <td>p.F88F</td>\n",
       "      <td>ENST00000264312</td>\n",
       "      <td>2020-09-06 00:00:00</td>\n",
       "      <td>OCIAD1,synonymous_variant,p.F88F,ENST000004255...</td>\n",
       "      <td>C</td>\n",
       "      <td>ENSG00000109180</td>\n",
       "      <td>ENST00000264312</td>\n",
       "      <td>Transcript</td>\n",
       "      <td>synonymous_variant</td>\n",
       "      <td>synonymous_variant</td>\n",
       "      <td>454/1414</td>\n",
       "      <td>264/738</td>\n",
       "      <td>88/245</td>\n",
       "      <td>F</td>\n",
       "      <td>ttT/ttC</td>\n",
       "      <td>OCIAD1</td>\n",
       "      <td>HGNC</td>\n",
       "      <td>HGNC:16074</td>\n",
       "      <td>protein_coding</td>\n",
       "      <td>NaN</td>\n",
       "      <td>LOW</td>\n",
       "      <td>SNV</td>\n",
       "      <td>Silent</td>\n",
       "    </tr>\n",
       "    <tr>\n",
       "      <th>118810</th>\n",
       "      <td>ATP6V0D2</td>\n",
       "      <td>BI</td>\n",
       "      <td>chr8</td>\n",
       "      <td>G</td>\n",
       "      <td>SNP</td>\n",
       "      <td>G</td>\n",
       "      <td>G</td>\n",
       "      <td>A</td>\n",
       "      <td>TCGA-IN-AB1V-01A-21D-A410-08</td>\n",
       "      <td>TCGA-IN-AB1V-10A-01D-A413-08</td>\n",
       "      <td>Illumina HiSeq 2000</td>\n",
       "      <td>e9d53789-cc98-4016-92e3-e752dc6cd891</td>\n",
       "      <td>de7daf62-f9a3-46c3-9ef1-4ffa1578268c</td>\n",
       "      <td>c.892-1G&gt;A</td>\n",
       "      <td>NaN</td>\n",
       "      <td>p.X298_splice</td>\n",
       "      <td>ENST00000285393</td>\n",
       "      <td>NaN</td>\n",
       "      <td>ATP6V0D2,splice_acceptor_variant,p.X298_splice...</td>\n",
       "      <td>A</td>\n",
       "      <td>ENSG00000147614</td>\n",
       "      <td>ENST00000285393</td>\n",
       "      <td>Transcript</td>\n",
       "      <td>splice_acceptor_variant</td>\n",
       "      <td>splice_acceptor_variant</td>\n",
       "      <td>-/2446</td>\n",
       "      <td>892/1053</td>\n",
       "      <td>298/350</td>\n",
       "      <td>NaN</td>\n",
       "      <td>NaN</td>\n",
       "      <td>ATP6V0D2</td>\n",
       "      <td>HGNC</td>\n",
       "      <td>HGNC:18266</td>\n",
       "      <td>protein_coding</td>\n",
       "      <td>YES</td>\n",
       "      <td>HIGH</td>\n",
       "      <td>SNV</td>\n",
       "      <td>Splice_Site</td>\n",
       "    </tr>\n",
       "    <tr>\n",
       "      <th>118813</th>\n",
       "      <td>API5</td>\n",
       "      <td>BI</td>\n",
       "      <td>chr11</td>\n",
       "      <td>G</td>\n",
       "      <td>SNP</td>\n",
       "      <td>G</td>\n",
       "      <td>G</td>\n",
       "      <td>A</td>\n",
       "      <td>TCGA-IN-AB1V-01A-21D-A410-08</td>\n",
       "      <td>TCGA-IN-AB1V-10A-01D-A413-08</td>\n",
       "      <td>Illumina HiSeq 2000</td>\n",
       "      <td>e9d53789-cc98-4016-92e3-e752dc6cd891</td>\n",
       "      <td>de7daf62-f9a3-46c3-9ef1-4ffa1578268c</td>\n",
       "      <td>c.-83G&gt;A</td>\n",
       "      <td>NaN</td>\n",
       "      <td>NaN</td>\n",
       "      <td>ENST00000531273</td>\n",
       "      <td>2014-01-01 00:00:00</td>\n",
       "      <td>API5,5_prime_UTR_variant,,ENST00000378852,NM_0...</td>\n",
       "      <td>A</td>\n",
       "      <td>ENSG00000166181</td>\n",
       "      <td>ENST00000531273</td>\n",
       "      <td>Transcript</td>\n",
       "      <td>5_prime_UTR_variant</td>\n",
       "      <td>5_prime_UTR_variant</td>\n",
       "      <td>57/1868</td>\n",
       "      <td>-/1575</td>\n",
       "      <td>-/524</td>\n",
       "      <td>NaN</td>\n",
       "      <td>NaN</td>\n",
       "      <td>API5</td>\n",
       "      <td>HGNC</td>\n",
       "      <td>HGNC:594</td>\n",
       "      <td>protein_coding</td>\n",
       "      <td>YES</td>\n",
       "      <td>MODIFIER</td>\n",
       "      <td>SNV</td>\n",
       "      <td>5'UTR</td>\n",
       "    </tr>\n",
       "    <tr>\n",
       "      <th>118817</th>\n",
       "      <td>PTPRB</td>\n",
       "      <td>BI</td>\n",
       "      <td>chr12</td>\n",
       "      <td>C</td>\n",
       "      <td>SNP</td>\n",
       "      <td>C</td>\n",
       "      <td>C</td>\n",
       "      <td>T</td>\n",
       "      <td>TCGA-IN-AB1V-01A-21D-A410-08</td>\n",
       "      <td>TCGA-IN-AB1V-10A-01D-A413-08</td>\n",
       "      <td>Illumina HiSeq 2000</td>\n",
       "      <td>e9d53789-cc98-4016-92e3-e752dc6cd891</td>\n",
       "      <td>de7daf62-f9a3-46c3-9ef1-4ffa1578268c</td>\n",
       "      <td>c.445G&gt;A</td>\n",
       "      <td>p.Glu149Lys</td>\n",
       "      <td>p.E149K</td>\n",
       "      <td>ENST00000261266</td>\n",
       "      <td>1932-03-01 00:00:00</td>\n",
       "      <td>PTPRB,missense_variant,p.E367K,ENST00000334414...</td>\n",
       "      <td>T</td>\n",
       "      <td>ENSG00000127329</td>\n",
       "      <td>ENST00000261266</td>\n",
       "      <td>Transcript</td>\n",
       "      <td>missense_variant</td>\n",
       "      <td>missense_variant</td>\n",
       "      <td>475/6110</td>\n",
       "      <td>445/5994</td>\n",
       "      <td>149/1997</td>\n",
       "      <td>E/K</td>\n",
       "      <td>Gaa/Aaa</td>\n",
       "      <td>PTPRB</td>\n",
       "      <td>HGNC</td>\n",
       "      <td>HGNC:9665</td>\n",
       "      <td>protein_coding</td>\n",
       "      <td>NaN</td>\n",
       "      <td>MODERATE</td>\n",
       "      <td>SNV</td>\n",
       "      <td>Missense_Mutation</td>\n",
       "    </tr>\n",
       "  </tbody>\n",
       "</table>\n",
       "<p>35236 rows × 38 columns</p>\n",
       "</div>"
      ],
      "text/plain": [
       "       Hugo_Symbol Center  ... VARIANT_CLASS Variant_Classification\n",
       "0          EXOSC10     BI  ...           SNV                 Intron\n",
       "6             DLX2     BI  ...           SNV                  3'UTR\n",
       "9            GCSAM     BI  ...           SNV      Missense_Mutation\n",
       "12           RGS12     BI  ...           SNV      Missense_Mutation\n",
       "15           TBRG4     BI  ...           SNV                 Intron\n",
       "...            ...    ...  ...           ...                    ...\n",
       "118801        POLN     BI  ...           SNV      Missense_Mutation\n",
       "118804      OCIAD1     BI  ...           SNV                 Silent\n",
       "118810    ATP6V0D2     BI  ...           SNV            Splice_Site\n",
       "118813        API5     BI  ...           SNV                  5'UTR\n",
       "118817       PTPRB     BI  ...           SNV      Missense_Mutation\n",
       "\n",
       "[35236 rows x 38 columns]"
      ]
     },
     "execution_count": 28,
     "metadata": {
      "tags": []
     },
     "output_type": "execute_result"
    }
   ],
   "source": [
    "obj_df.head()\n",
    "obj_df[obj_df.isnull().any(axis=1)]"
   ]
  },
  {
   "cell_type": "code",
   "execution_count": 29,
   "metadata": {
    "colab": {
     "base_uri": "https://localhost:8080/",
     "height": 766
    },
    "colab_type": "code",
    "id": "tAnPmCkveOPD",
    "outputId": "df5f1226-c2fb-4645-8d1a-5554bd0718a7"
   },
   "outputs": [
    {
     "data": {
      "text/plain": [
       "<matplotlib.axes._subplots.AxesSubplot at 0x7fd9e81b0b38>"
      ]
     },
     "execution_count": 29,
     "metadata": {
      "tags": []
     },
     "output_type": "execute_result"
    },
    {
     "data": {
      "image/png": "[encoded data removed]",
      "text/plain": [
       "<Figure size 1440x720 with 1 Axes>"
      ]
     },
     "metadata": {
      "tags": []
     },
     "output_type": "display_data"
    }
   ],
   "source": [
    "# Si on affiche le tableau avec le heatmap\n",
    "plt.figure(figsize=(20,10))\n",
    "sns.heatmap(obj_df.isna(), cbar=False)"
   ]
  },
  {
   "cell_type": "markdown",
   "metadata": {
    "colab_type": "text",
    "id": "57rzO7snkNsS"
   },
   "source": [
    "##Categorical data"
   ]
  },
  {
   "cell_type": "code",
   "execution_count": 30,
   "metadata": {
    "colab": {},
    "colab_type": "code",
    "id": "WoVe6jXQ7WXE"
   },
   "outputs": [],
   "source": [
    "a=['Hugo_Symbol', 'Center', 'Chromosome', 'Reference_Allele',\n",
    "        'Variant_Type', 'Reference_Allele.1',\n",
    "       'Tumor_Seq_Allele1', 'Tumor_Seq_Allele2', 'Tumor_Sample_Barcode',\n",
    "       'Matched_Norm_Sample_Barcode', 'Sequencer', 'Tumor_Sample_UUID',\n",
    "       'Matched_Norm_Sample_UUID', 'HGVSc', 'HGVSp', 'HGVSp_Short',\n",
    "       'Transcript_ID', 'Exon_Number', 'all_effects', 'Allele', 'Gene',\n",
    "       'Feature', 'Feature_type', 'One_Consequence', 'Consequence',\n",
    "       'cDNA_position', 'CDS_position', 'Protein_position', 'Amino_acids',\n",
    "       'Codons',  'SYMBOL',\n",
    "       'SYMBOL_SOURCE', 'HGNC_ID', 'BIOTYPE', 'CANONICAL', 'IMPACT', 'VARIANT_CLASS']\n",
    "for i in a:\n",
    "    obj_df[i] = obj_df[i].astype('category')\n",
    "    obj_df[i] = obj_df[i].cat.codes\n",
    "    df[i]=obj_df[i]\n"
   ]
  },
  {
   "cell_type": "markdown",
   "metadata": {
    "colab_type": "text",
    "id": "wOAZBLeSjZ9O"
   },
   "source": [
    "##Replace NaN values with average of columns"
   ]
  },
  {
   "cell_type": "code",
   "execution_count": 31,
   "metadata": {
    "colab": {},
    "colab_type": "code",
    "id": "b-yyGby4jBJm"
   },
   "outputs": [],
   "source": [
    "df=df.fillna(df.mean())"
   ]
  },
  {
   "cell_type": "code",
   "execution_count": 32,
   "metadata": {
    "colab": {},
    "colab_type": "code",
    "id": "HqzEcgSD91AE"
   },
   "outputs": [],
   "source": [
    "\n",
    "\n",
    "target_names = df['Variant_Classification'].unique()\n",
    "target_dict = {n:i for i, n in enumerate(target_names)}\n",
    "target_dict\n",
    "y= df['Variant_Classification'].map(target_dict)\n",
    "from keras.utils.np_utils import to_categorical\n",
    "y = to_categorical(y)\n",
    "X = df.iloc[:,:-1].values\n"
   ]
  },
  {
   "cell_type": "markdown",
   "metadata": {
    "colab_type": "text",
    "id": "25ruYYCnl30W"
   },
   "source": [
    "##Splitting the dataset into train and test sets"
   ]
  },
  {
   "cell_type": "code",
   "execution_count": 33,
   "metadata": {
    "colab": {
     "base_uri": "https://localhost:8080/",
     "height": 34
    },
    "colab_type": "code",
    "id": "ot_9lzoilxMI",
    "outputId": "09466d56-5bb1-49c8-9518-3cf03c6921ce"
   },
   "outputs": [
    {
     "data": {
      "text/plain": [
       "(95059, 54)"
      ]
     },
     "execution_count": 33,
     "metadata": {
      "tags": []
     },
     "output_type": "execute_result"
    }
   ],
   "source": [
    "X_train, X_test, y_train, y_test = train_test_split(X, y, test_size=0.2, random_state=1)\n",
    "X_train.shape"
   ]
  },
  {
   "cell_type": "markdown",
   "metadata": {
    "colab_type": "text",
    "id": "Lmj2FiJKngqm"
   },
   "source": [
    "#Feature scaling"
   ]
  },
  {
   "cell_type": "code",
   "execution_count": 53,
   "metadata": {
    "colab": {},
    "colab_type": "code",
    "id": "egcTtPConhCR"
   },
   "outputs": [],
   "source": [
    "from sklearn.preprocessing import StandardScaler\n",
    "sc = StandardScaler()\n",
    "X_train = sc.fit_transform(X_train)\n",
    "X_test = sc.transform(X_test)"
   ]
  },
  {
   "cell_type": "markdown",
   "metadata": {
    "colab_type": "text",
    "id": "cOOF5h5rX_u5"
   },
   "source": [
    "#Modeling"
   ]
  },
  {
   "cell_type": "markdown",
   "metadata": {
    "colab_type": "text",
    "id": "MXdcdBb1i3cK"
   },
   "source": [
    "##Make DNN\n"
   ]
  },
  {
   "cell_type": "markdown",
   "metadata": {
    "colab_type": "text",
    "id": "xNwfFDiZoXq6"
   },
   "source": [
    "###Initialize our DNN"
   ]
  },
  {
   "cell_type": "code",
   "execution_count": 35,
   "metadata": {
    "colab": {},
    "colab_type": "code",
    "id": "mVephPEtocEz"
   },
   "outputs": [],
   "source": [
    " model = Sequential()"
   ]
  },
  {
   "cell_type": "markdown",
   "metadata": {
    "colab_type": "text",
    "id": "ZlXYQSuooj15"
   },
   "source": [
    "##Hidden layer and Input layer"
   ]
  },
  {
   "cell_type": "code",
   "execution_count": 36,
   "metadata": {
    "colab": {},
    "colab_type": "code",
    "id": "wTy3x-FCCNMu"
   },
   "outputs": [],
   "source": [
    "model.add(Dense(1024, input_dim=X_train.shape[1], activation='relu'))\n",
    "\n",
    "model.add(Dense(1024,activation=\"relu\"))\n",
    "model.add(Dense(1024,activation=\"relu\"))\n",
    "model.add(Dense(1024,activation=\"relu\"))\n",
    "model.add(Dense(1024,activation=\"relu\"))\n",
    "\n",
    "model.add(Dense(512,activation=\"relu\"))\n",
    "model.add(Dense(512,activation=\"relu\"))\n",
    "model.add(Dense(512,activation=\"relu\"))\n",
    "model.add(Dense(512,activation=\"relu\"))\n",
    "\n",
    "model.add(Dense(256,activation=\"relu\"))\n",
    "model.add(Dense(256,activation=\"relu\"))\n",
    "model.add(Dense(256,activation=\"relu\"))\n",
    "\n",
    "model.add(Dense(128,activation=\"relu\"))\n",
    "model.add(Dense(128,activation=\"relu\"))\n",
    "\n",
    "model.add(Dense(64,activation=\"relu\"))\n",
    "model.add(Dense(64,activation=\"relu\"))\n",
    "\n",
    "model.add(Dense(32,activation=\"relu\"))"
   ]
  },
  {
   "cell_type": "markdown",
   "metadata": {
    "colab_type": "text",
    "id": "BpTvc9b4pTtP"
   },
   "source": [
    "##Output Layer"
   ]
  },
  {
   "cell_type": "code",
   "execution_count": 37,
   "metadata": {
    "colab": {},
    "colab_type": "code",
    "id": "D6f0Mzt5pXdM"
   },
   "outputs": [],
   "source": [
    "model.add(Dense(14, activation='softmax')) #for 14 output 0-13"
   ]
  },
  {
   "cell_type": "markdown",
   "metadata": {
    "colab_type": "text",
    "id": "RcHBUZtbp0ym"
   },
   "source": [
    "##Compile our DNN"
   ]
  },
  {
   "cell_type": "code",
   "execution_count": 38,
   "metadata": {
    "colab": {},
    "colab_type": "code",
    "id": "NUwc8Hp2p9X7"
   },
   "outputs": [],
   "source": [
    "model.compile(loss='categorical_crossentropy',optimizer=\"adam\",metrics=['accuracy'])"
   ]
  },
  {
   "cell_type": "markdown",
   "metadata": {
    "colab_type": "text",
    "id": "C758pihYqbe_"
   },
   "source": [
    "##Fitting the DNN to the train set"
   ]
  },
  {
   "cell_type": "code",
   "execution_count": 51,
   "metadata": {
    "colab": {},
    "colab_type": "code",
    "id": "yr9LUMOYPxuq"
   },
   "outputs": [],
   "source": [
    "from keras.callbacks import EarlyStopping, ModelCheckpoint\n",
    "callbacks = [EarlyStopping(monitor='val_loss', patience=2),ModelCheckpoint(filepath='best_model.h5', monitor='val_loss', save_best_only=True)]"
   ]
  },
  {
   "cell_type": "code",
   "execution_count": 52,
   "metadata": {
    "colab": {
     "base_uri": "https://localhost:8080/",
     "height": 1000
    },
    "colab_type": "code",
    "id": "Xunf1e4WSG9c",
    "outputId": "f40de6cb-4be8-4db9-943a-ab279a30f277"
   },
   "outputs": [
    {
     "name": "stdout",
     "output_type": "stream",
     "text": [
      "Epoch 1/100\n",
      "9506/9506 [==============================] - 36s 4ms/step - loss: 0.0701 - accuracy: 0.9848\n",
      "Epoch 2/100\n",
      "9506/9506 [==============================] - 37s 4ms/step - loss: 0.0907 - accuracy: 0.9797\n",
      "Epoch 3/100\n",
      "9506/9506 [==============================] - 36s 4ms/step - loss: 0.0841 - accuracy: 0.9737\n",
      "Epoch 4/100\n",
      "9506/9506 [==============================] - 36s 4ms/step - loss: 0.0859 - accuracy: 0.9869\n",
      "Epoch 5/100\n",
      "9506/9506 [==============================] - 36s 4ms/step - loss: 0.0556 - accuracy: 0.9862\n",
      "Epoch 6/100\n",
      "9506/9506 [==============================] - 36s 4ms/step - loss: 0.1874 - accuracy: 0.9878\n",
      "Epoch 7/100\n",
      "9506/9506 [==============================] - 36s 4ms/step - loss: 0.0550 - accuracy: 0.9908\n",
      "Epoch 8/100\n",
      "9506/9506 [==============================] - 36s 4ms/step - loss: 0.0506 - accuracy: 0.9932\n",
      "Epoch 9/100\n",
      "9506/9506 [==============================] - 36s 4ms/step - loss: 0.0574 - accuracy: 0.9885\n",
      "Epoch 10/100\n",
      "9506/9506 [==============================] - 36s 4ms/step - loss: 0.0565 - accuracy: 0.9867\n",
      "Epoch 11/100\n",
      "9506/9506 [==============================] - 37s 4ms/step - loss: 0.1158 - accuracy: 0.9882\n",
      "Epoch 12/100\n",
      "9506/9506 [==============================] - 37s 4ms/step - loss: 0.0405 - accuracy: 0.9908\n",
      "Epoch 13/100\n",
      "9506/9506 [==============================] - 36s 4ms/step - loss: 0.0445 - accuracy: 0.9908\n",
      "Epoch 14/100\n",
      "9506/9506 [==============================] - 37s 4ms/step - loss: 0.0338 - accuracy: 0.9932\n",
      "Epoch 15/100\n",
      "9506/9506 [==============================] - 37s 4ms/step - loss: 0.0428 - accuracy: 0.9923\n",
      "Epoch 16/100\n",
      "9506/9506 [==============================] - 36s 4ms/step - loss: 0.0441 - accuracy: 0.9911\n",
      "Epoch 17/100\n",
      "9506/9506 [==============================] - 36s 4ms/step - loss: 0.0590 - accuracy: 0.9923\n",
      "Epoch 18/100\n",
      "9506/9506 [==============================] - 37s 4ms/step - loss: 0.0482 - accuracy: 0.9921\n",
      "Epoch 19/100\n",
      "9506/9506 [==============================] - 37s 4ms/step - loss: 0.1796 - accuracy: 0.9809\n",
      "Epoch 20/100\n",
      "9506/9506 [==============================] - 37s 4ms/step - loss: 0.0802 - accuracy: 0.9762\n",
      "Epoch 21/100\n",
      "9506/9506 [==============================] - 36s 4ms/step - loss: 0.1269 - accuracy: 0.9626\n",
      "Epoch 22/100\n",
      "9506/9506 [==============================] - 37s 4ms/step - loss: 1.1971 - accuracy: 0.8243\n",
      "Epoch 23/100\n",
      "9506/9506 [==============================] - 37s 4ms/step - loss: 0.6744 - accuracy: 0.8093\n",
      "Epoch 24/100\n",
      "9506/9506 [==============================] - 37s 4ms/step - loss: 0.4554 - accuracy: 0.8793\n",
      "Epoch 25/100\n",
      "9506/9506 [==============================] - 37s 4ms/step - loss: 0.3898 - accuracy: 0.8977\n",
      "Epoch 26/100\n",
      "9506/9506 [==============================] - 37s 4ms/step - loss: 1.9068 - accuracy: 0.9004\n",
      "Epoch 27/100\n",
      "9506/9506 [==============================] - 37s 4ms/step - loss: 0.2547 - accuracy: 0.9331\n",
      "Epoch 28/100\n",
      "9506/9506 [==============================] - 38s 4ms/step - loss: 0.9219 - accuracy: 0.9296\n",
      "Epoch 29/100\n",
      "9506/9506 [==============================] - 37s 4ms/step - loss: 0.2263 - accuracy: 0.9391\n",
      "Epoch 30/100\n",
      "9506/9506 [==============================] - 37s 4ms/step - loss: 0.2188 - accuracy: 0.9423\n",
      "Epoch 31/100\n",
      "9506/9506 [==============================] - 37s 4ms/step - loss: 1.6882 - accuracy: 0.7708\n",
      "Epoch 32/100\n",
      "9506/9506 [==============================] - 37s 4ms/step - loss: 0.2421 - accuracy: 0.9397\n",
      "Epoch 33/100\n",
      "9506/9506 [==============================] - 37s 4ms/step - loss: 0.2109 - accuracy: 0.9453\n",
      "Epoch 34/100\n",
      "9506/9506 [==============================] - 37s 4ms/step - loss: 0.2300 - accuracy: 0.9410\n",
      "Epoch 35/100\n",
      "9506/9506 [==============================] - 38s 4ms/step - loss: 0.4809 - accuracy: 0.9063\n",
      "Epoch 36/100\n",
      "9506/9506 [==============================] - 38s 4ms/step - loss: 0.3321 - accuracy: 0.9146\n",
      "Epoch 37/100\n",
      "9506/9506 [==============================] - 38s 4ms/step - loss: 0.3317 - accuracy: 0.9229\n",
      "Epoch 38/100\n",
      "9506/9506 [==============================] - 37s 4ms/step - loss: 0.3541 - accuracy: 0.9200\n",
      "Epoch 39/100\n",
      "9506/9506 [==============================] - 37s 4ms/step - loss: 0.4515 - accuracy: 0.8994\n",
      "Epoch 40/100\n",
      "9506/9506 [==============================] - 37s 4ms/step - loss: 0.2648 - accuracy: 0.9319\n",
      "Epoch 41/100\n",
      "9506/9506 [==============================] - 37s 4ms/step - loss: 0.2850 - accuracy: 0.9268\n",
      "Epoch 42/100\n",
      "9506/9506 [==============================] - 38s 4ms/step - loss: 0.2739 - accuracy: 0.9226\n",
      "Epoch 43/100\n",
      "9506/9506 [==============================] - 37s 4ms/step - loss: 0.2362 - accuracy: 0.9286\n",
      "Epoch 44/100\n",
      "9506/9506 [==============================] - 38s 4ms/step - loss: 0.2531 - accuracy: 0.9272\n",
      "Epoch 45/100\n",
      "9506/9506 [==============================] - 38s 4ms/step - loss: 0.2713 - accuracy: 0.9273\n",
      "Epoch 46/100\n",
      "9506/9506 [==============================] - 38s 4ms/step - loss: 0.3839 - accuracy: 0.9251\n",
      "Epoch 47/100\n",
      "9506/9506 [==============================] - 38s 4ms/step - loss: 0.2936 - accuracy: 0.9293\n",
      "Epoch 48/100\n",
      "9506/9506 [==============================] - 38s 4ms/step - loss: 0.3112 - accuracy: 0.9264\n",
      "Epoch 49/100\n",
      "9506/9506 [==============================] - 38s 4ms/step - loss: 0.4996 - accuracy: 0.8887\n",
      "Epoch 50/100\n",
      "9506/9506 [==============================] - 38s 4ms/step - loss: 0.3455 - accuracy: 0.9201\n",
      "Epoch 51/100\n",
      "9506/9506 [==============================] - 38s 4ms/step - loss: 0.3694 - accuracy: 0.9148\n",
      "Epoch 52/100\n",
      "9506/9506 [==============================] - 38s 4ms/step - loss: 0.6487 - accuracy: 0.8554\n",
      "Epoch 53/100\n",
      "9506/9506 [==============================] - 38s 4ms/step - loss: 2.8874 - accuracy: 0.4748\n",
      "Epoch 54/100\n",
      "9506/9506 [==============================] - 38s 4ms/step - loss: 1.3237 - accuracy: 0.6030\n",
      "Epoch 55/100\n",
      "9506/9506 [==============================] - 38s 4ms/step - loss: 1.2362 - accuracy: 0.6030\n",
      "Epoch 56/100\n",
      "9506/9506 [==============================] - 38s 4ms/step - loss: 1.2301 - accuracy: 0.6030\n",
      "Epoch 57/100\n",
      "9506/9506 [==============================] - 38s 4ms/step - loss: 1.2298 - accuracy: 0.6030\n",
      "Epoch 58/100\n",
      "9506/9506 [==============================] - 37s 4ms/step - loss: 1.2298 - accuracy: 0.6030\n",
      "Epoch 59/100\n",
      "9506/9506 [==============================] - 37s 4ms/step - loss: 1.2298 - accuracy: 0.6030\n",
      "Epoch 60/100\n",
      "9506/9506 [==============================] - 37s 4ms/step - loss: 1.2298 - accuracy: 0.6030\n",
      "Epoch 61/100\n",
      "9506/9506 [==============================] - 39s 4ms/step - loss: 1.2298 - accuracy: 0.6030\n",
      "Epoch 62/100\n",
      "9506/9506 [==============================] - 38s 4ms/step - loss: 1.2299 - accuracy: 0.6030\n",
      "Epoch 63/100\n",
      "9506/9506 [==============================] - 38s 4ms/step - loss: 1.2298 - accuracy: 0.6030\n",
      "Epoch 64/100\n",
      "9506/9506 [==============================] - 38s 4ms/step - loss: 1.2299 - accuracy: 0.6030\n",
      "Epoch 65/100\n",
      "9506/9506 [==============================] - 38s 4ms/step - loss: 1.2298 - accuracy: 0.6030\n",
      "Epoch 66/100\n",
      "9506/9506 [==============================] - 38s 4ms/step - loss: 1.2299 - accuracy: 0.6030\n",
      "Epoch 67/100\n",
      "9506/9506 [==============================] - 38s 4ms/step - loss: 1.2298 - accuracy: 0.6030\n",
      "Epoch 68/100\n",
      "9506/9506 [==============================] - 38s 4ms/step - loss: 1.2298 - accuracy: 0.6030\n",
      "Epoch 69/100\n",
      "9506/9506 [==============================] - 39s 4ms/step - loss: 1.2298 - accuracy: 0.6030\n",
      "Epoch 70/100\n",
      "9506/9506 [==============================] - 38s 4ms/step - loss: 1.2298 - accuracy: 0.6030\n",
      "Epoch 71/100\n",
      "9506/9506 [==============================] - 38s 4ms/step - loss: 1.2299 - accuracy: 0.6030\n",
      "Epoch 72/100\n",
      "9506/9506 [==============================] - 38s 4ms/step - loss: 1.2298 - accuracy: 0.6030\n",
      "Epoch 73/100\n",
      "9506/9506 [==============================] - 38s 4ms/step - loss: 1.2298 - accuracy: 0.6030\n",
      "Epoch 74/100\n",
      "9506/9506 [==============================] - 38s 4ms/step - loss: 1.2298 - accuracy: 0.6030\n",
      "Epoch 75/100\n",
      "9506/9506 [==============================] - 38s 4ms/step - loss: 1.2298 - accuracy: 0.6030\n",
      "Epoch 76/100\n",
      "9506/9506 [==============================] - 37s 4ms/step - loss: 1.2298 - accuracy: 0.6030\n",
      "Epoch 77/100\n",
      "9506/9506 [==============================] - 38s 4ms/step - loss: 1.2298 - accuracy: 0.6030\n",
      "Epoch 78/100\n",
      "9506/9506 [==============================] - 39s 4ms/step - loss: 1.2298 - accuracy: 0.6030\n",
      "Epoch 79/100\n",
      "9506/9506 [==============================] - 38s 4ms/step - loss: 1.2298 - accuracy: 0.6030\n",
      "Epoch 80/100\n",
      "9506/9506 [==============================] - 37s 4ms/step - loss: 1.2298 - accuracy: 0.6030\n",
      "Epoch 81/100\n",
      "9506/9506 [==============================] - 37s 4ms/step - loss: 1.2298 - accuracy: 0.6030\n",
      "Epoch 82/100\n",
      "9506/9506 [==============================] - 37s 4ms/step - loss: 1.2298 - accuracy: 0.6030\n",
      "Epoch 83/100\n",
      "9506/9506 [==============================] - 37s 4ms/step - loss: 1.2298 - accuracy: 0.6030\n",
      "Epoch 84/100\n",
      "9506/9506 [==============================] - 38s 4ms/step - loss: 1.2298 - accuracy: 0.6030\n",
      "Epoch 85/100\n",
      "9506/9506 [==============================] - 38s 4ms/step - loss: 1.2298 - accuracy: 0.6030\n",
      "Epoch 86/100\n",
      "9506/9506 [==============================] - 38s 4ms/step - loss: 1.2298 - accuracy: 0.6030\n",
      "Epoch 87/100\n",
      "9506/9506 [==============================] - 38s 4ms/step - loss: 1.2298 - accuracy: 0.6030\n",
      "Epoch 88/100\n",
      "9506/9506 [==============================] - 38s 4ms/step - loss: 1.2298 - accuracy: 0.6030\n",
      "Epoch 89/100\n",
      "9506/9506 [==============================] - 38s 4ms/step - loss: 1.2298 - accuracy: 0.6030\n",
      "Epoch 90/100\n",
      "9506/9506 [==============================] - 38s 4ms/step - loss: 1.2298 - accuracy: 0.6030\n",
      "Epoch 91/100\n",
      "9506/9506 [==============================] - 38s 4ms/step - loss: 1.2298 - accuracy: 0.6030\n",
      "Epoch 92/100\n",
      "9506/9506 [==============================] - 38s 4ms/step - loss: 1.2298 - accuracy: 0.6030\n",
      "Epoch 93/100\n",
      "9506/9506 [==============================] - 38s 4ms/step - loss: 1.2298 - accuracy: 0.6030\n",
      "Epoch 94/100\n",
      "9506/9506 [==============================] - 39s 4ms/step - loss: 1.2298 - accuracy: 0.6030\n",
      "Epoch 95/100\n",
      "9506/9506 [==============================] - 38s 4ms/step - loss: 1.2299 - accuracy: 0.6030\n",
      "Epoch 96/100\n",
      "9506/9506 [==============================] - 38s 4ms/step - loss: 1.2298 - accuracy: 0.6030\n",
      "Epoch 97/100\n",
      "9506/9506 [==============================] - 38s 4ms/step - loss: 1.2299 - accuracy: 0.6030\n",
      "Epoch 98/100\n",
      "9506/9506 [==============================] - 37s 4ms/step - loss: 1.2298 - accuracy: 0.6030\n",
      "Epoch 99/100\n",
      "9506/9506 [==============================] - 37s 4ms/step - loss: 1.2298 - accuracy: 0.6030\n",
      "Epoch 100/100\n",
      "9506/9506 [==============================] - 37s 4ms/step - loss: 1.2298 - accuracy: 0.6030\n"
     ]
    }
   ],
   "source": [
    "history=model.fit(X_train, y_train, epochs=100, batch_size=10, verbose=1)"
   ]
  },
  {
   "cell_type": "markdown",
   "metadata": {
    "colab_type": "text",
    "id": "OBKez4af1DR6"
   },
   "source": [
    "##Visualize Neural Network Loss History"
   ]
  },
  {
   "cell_type": "markdown",
   "metadata": {
    "colab_type": "text",
    "id": "ajTnP5rX1nxM"
   },
   "source": [
    "#### Get training and test loss histories"
   ]
  },
  {
   "cell_type": "code",
   "execution_count": 55,
   "metadata": {
    "colab": {},
    "colab_type": "code",
    "id": "MHFw2jHx1saZ"
   },
   "outputs": [],
   "source": [
    "training_loss = history.history['loss']"
   ]
  },
  {
   "cell_type": "markdown",
   "metadata": {
    "colab_type": "text",
    "id": "zG5aE-Jw2ur5"
   },
   "source": [
    "##Create count of the number of epochs"
   ]
  },
  {
   "cell_type": "code",
   "execution_count": 56,
   "metadata": {
    "colab": {},
    "colab_type": "code",
    "id": "vkJGbkmI2zkA"
   },
   "outputs": [],
   "source": [
    "epoch_count = range(1, len(training_loss) + 1)"
   ]
  },
  {
   "cell_type": "code",
   "execution_count": 57,
   "metadata": {
    "colab": {
     "base_uri": "https://localhost:8080/",
     "height": 295
    },
    "colab_type": "code",
    "id": "s2xdqtEx3gmE",
    "outputId": "9ec8e497-9701-4221-cfdd-5af3a54ea90c"
   },
   "outputs": [
    {
     "data": {
      "image/png": "[encoded data removed]",
      "text/plain": [
       "<Figure size 432x288 with 1 Axes>"
      ]
     },
     "metadata": {
      "tags": []
     },
     "output_type": "display_data"
    }
   ],
   "source": [
    "## Visualize Neural Network Loss History\n",
    "plt.plot(epoch_count, training_loss, 'b-')\n",
    "plt.title('Loss History')\n",
    "plt.legend(['Training Loss'])\n",
    "plt.xlabel('Epoch')\n",
    "plt.ylabel('Loss')\n",
    "plt.show()"
   ]
  },
  {
   "cell_type": "markdown",
   "metadata": {
    "colab_type": "text",
    "id": "_KyF9Aoz5ibr"
   },
   "source": [
    "##Visualize Neural Network Accuracy History"
   ]
  },
  {
   "cell_type": "markdown",
   "metadata": {
    "colab_type": "text",
    "id": "d_xrBGLX5nWC"
   },
   "source": [
    "###Get training and test loss histories"
   ]
  },
  {
   "cell_type": "code",
   "execution_count": 58,
   "metadata": {
    "colab": {},
    "colab_type": "code",
    "id": "fwUodLVb57Us"
   },
   "outputs": [],
   "source": [
    "training_accuracy = history.history['accuracy']"
   ]
  },
  {
   "cell_type": "code",
   "execution_count": 59,
   "metadata": {
    "colab": {
     "base_uri": "https://localhost:8080/",
     "height": 295
    },
    "colab_type": "code",
    "id": "2Jewf_kb6BQK",
    "outputId": "0303ecab-649c-4c9b-dce3-d30d275f4b62"
   },
   "outputs": [
    {
     "data": {
      "image/png": "[encoded data removed]",
      "text/plain": [
       "<Figure size 432x288 with 1 Axes>"
      ]
     },
     "metadata": {
      "tags": []
     },
     "output_type": "display_data"
    }
   ],
   "source": [
    "##Visualize accuracy history\n",
    "plt.plot(epoch_count, training_accuracy, 'b-')\n",
    "plt.title('Accuracy History')\n",
    "plt.legend(['Training Accuracy'])\n",
    "plt.xlabel('Epoch')\n",
    "plt.ylabel('Accuracy')\n",
    "plt.show()"
   ]
  },
  {
   "cell_type": "markdown",
   "metadata": {
    "colab_type": "text",
    "id": "uYddx0H-6daI"
   },
   "source": [
    "##Prediction test data"
   ]
  },
  {
   "cell_type": "code",
   "execution_count": 60,
   "metadata": {
    "colab": {},
    "colab_type": "code",
    "id": "-oy5OA6cECgs"
   },
   "outputs": [],
   "source": [
    "y_pred=model.predict(X_test)\n",
    "pred=np.argmax(y_pred,axis=1)\n",
    "test=np.argmax(y_test,axis=1)"
   ]
  },
  {
   "cell_type": "markdown",
   "metadata": {
    "colab_type": "text",
    "id": "sP-nPet_7xRB"
   },
   "source": [
    "##Confusion matrix"
   ]
  },
  {
   "cell_type": "code",
   "execution_count": 61,
   "metadata": {
    "colab": {
     "base_uri": "https://localhost:8080/",
     "height": 493
    },
    "colab_type": "code",
    "id": "BvvF1GUsCRh8",
    "outputId": "0d88e79a-fbf4-4a04-add5-3329f936b41e"
   },
   "outputs": [
    {
     "data": {
      "text/plain": [
       "array([[    0,     0,     0,     0,     0,     0,     0,     0,     0,\n",
       "            0,     0,     0,     0,     0],\n",
       "       [  623, 14385,   813,   683,  5972,   254,   278,    81,   228,\n",
       "          348,    81,    10,     8,     1],\n",
       "       [    0,     0,     0,     0,     0,     0,     0,     0,     0,\n",
       "            0,     0,     0,     0,     0],\n",
       "       [    0,     0,     0,     0,     0,     0,     0,     0,     0,\n",
       "            0,     0,     0,     0,     0],\n",
       "       [    0,     0,     0,     0,     0,     0,     0,     0,     0,\n",
       "            0,     0,     0,     0,     0],\n",
       "       [    0,     0,     0,     0,     0,     0,     0,     0,     0,\n",
       "            0,     0,     0,     0,     0],\n",
       "       [    0,     0,     0,     0,     0,     0,     0,     0,     0,\n",
       "            0,     0,     0,     0,     0],\n",
       "       [    0,     0,     0,     0,     0,     0,     0,     0,     0,\n",
       "            0,     0,     0,     0,     0],\n",
       "       [    0,     0,     0,     0,     0,     0,     0,     0,     0,\n",
       "            0,     0,     0,     0,     0],\n",
       "       [    0,     0,     0,     0,     0,     0,     0,     0,     0,\n",
       "            0,     0,     0,     0,     0],\n",
       "       [    0,     0,     0,     0,     0,     0,     0,     0,     0,\n",
       "            0,     0,     0,     0,     0],\n",
       "       [    0,     0,     0,     0,     0,     0,     0,     0,     0,\n",
       "            0,     0,     0,     0,     0],\n",
       "       [    0,     0,     0,     0,     0,     0,     0,     0,     0,\n",
       "            0,     0,     0,     0,     0],\n",
       "       [    0,     0,     0,     0,     0,     0,     0,     0,     0,\n",
       "            0,     0,     0,     0,     0]])"
      ]
     },
     "execution_count": 61,
     "metadata": {
      "tags": []
     },
     "output_type": "execute_result"
    }
   ],
   "source": [
    "from sklearn.metrics import confusion_matrix \n",
    "cm=confusion_matrix(pred,test)\n",
    "cm "
   ]
  }
 ],
 "metadata": {
  "accelerator": "GPU",
  "colab": {
   "collapsed_sections": [],
   "name": "Classification tumors.ipynb",
   "provenance": []
  },
  "kernelspec": {
   "display_name": "Python 3",
   "language": "python",
   "name": "python3"
  },
  "language_info": {
   "codemirror_mode": {
    "name": "ipython",
    "version": 3
   },
   "file_extension": ".py",
   "mimetype": "text/x-python",
   "name": "python",
   "nbconvert_exporter": "python",
   "pygments_lexer": "ipython3",
   "version": "3.7.6"
  }
 },
 "nbformat": 4,
 "nbformat_minor": 1
}
